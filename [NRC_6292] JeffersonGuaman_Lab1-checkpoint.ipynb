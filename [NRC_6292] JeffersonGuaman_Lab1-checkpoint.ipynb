{
 "cells": [
  {
   "cell_type": "markdown",
   "id": "668e68d3",
   "metadata": {},
   "source": [
    "# Support Vector Machine (SVM)"
   ]
  },
  {
   "cell_type": "code",
   "execution_count": 2,
   "id": "96fa5dc3",
   "metadata": {},
   "outputs": [],
   "source": [
    "'''Primero se importan los módulos necesarios para el desarrollo del algoritmo SVM'''\n",
    "\n",
    "from sklearn import datasets\n",
    "from sklearn.model_selection import train_test_split\n",
    "from sklearn import svm\n",
    "from sklearn import metrics\n",
    "import pandas as pd\n",
    "import seaborn as sn\n",
    "import matplotlib.pyplot as plt"
   ]
  },
  {
   "cell_type": "code",
   "execution_count": 3,
   "id": "e589c879",
   "metadata": {},
   "outputs": [],
   "source": [
    "'''Cargamos el conjunto de datos de reconocimiento de vinos mediate la librería scikit-learn'''\n",
    "df = datasets.load_wine()"
   ]
  },
  {
   "cell_type": "code",
   "execution_count": 4,
   "id": "d422ce15",
   "metadata": {},
   "outputs": [
    {
     "name": "stdout",
     "output_type": "stream",
     "text": [
      "Features:\n",
      " ['alcohol', 'malic_acid', 'ash', 'alcalinity_of_ash', 'magnesium', 'total_phenols', 'flavanoids', 'nonflavanoid_phenols', 'proanthocyanins', 'color_intensity', 'hue', 'od280/od315_of_diluted_wines', 'proline']\n",
      "Labels:\n",
      " ['class_0' 'class_1' 'class_2']\n",
      "Shape:\n",
      " (178, 13)\n",
      "Top five records:\n",
      " [[1.423e+01 1.710e+00 2.430e+00 1.560e+01 1.270e+02 2.800e+00 3.060e+00\n",
      "  2.800e-01 2.290e+00 5.640e+00 1.040e+00 3.920e+00 1.065e+03]\n",
      " [1.320e+01 1.780e+00 2.140e+00 1.120e+01 1.000e+02 2.650e+00 2.760e+00\n",
      "  2.600e-01 1.280e+00 4.380e+00 1.050e+00 3.400e+00 1.050e+03]\n",
      " [1.316e+01 2.360e+00 2.670e+00 1.860e+01 1.010e+02 2.800e+00 3.240e+00\n",
      "  3.000e-01 2.810e+00 5.680e+00 1.030e+00 3.170e+00 1.185e+03]\n",
      " [1.437e+01 1.950e+00 2.500e+00 1.680e+01 1.130e+02 3.850e+00 3.490e+00\n",
      "  2.400e-01 2.180e+00 7.800e+00 8.600e-01 3.450e+00 1.480e+03]\n",
      " [1.324e+01 2.590e+00 2.870e+00 2.100e+01 1.180e+02 2.800e+00 2.690e+00\n",
      "  3.900e-01 1.820e+00 4.320e+00 1.040e+00 2.930e+00 7.350e+02]]\n"
     ]
    }
   ],
   "source": [
    "'''Imprimimos el nombre de las características (X), las etiquetas (y), y algunos registros para la verificación de datos'''\n",
    "\n",
    "print(\"Features:\\n\", df.feature_names)\n",
    "\n",
    "print(\"Labels:\\n\", df.target_names)\n",
    "\n",
    "print(\"Shape:\\n\", df.data.shape)\n",
    "\n",
    "print(\"Top five records:\\n\", df.data[0:5])"
   ]
  },
  {
   "cell_type": "code",
   "execution_count": 5,
   "id": "965b0340",
   "metadata": {},
   "outputs": [],
   "source": [
    "'''Dividimos el conjunto de datos en un 70% de entrenamiento y un 30% de prueba; seleccionando registros de forma aleatoria'''\n",
    "X_train, X_test, y_train, y_test = train_test_split(df.data, df.target, test_size=0.3, random_state=109)"
   ]
  },
  {
   "cell_type": "code",
   "execution_count": null,
   "id": "b8e41559",
   "metadata": {},
   "outputs": [],
   "source": []
  }
 ],
 "metadata": {
  "kernelspec": {
   "display_name": "Python 3 (ipykernel)",
   "language": "python",
   "name": "python3"
  },
  "language_info": {
   "codemirror_mode": {
    "name": "ipython",
    "version": 3
   },
   "file_extension": ".py",
   "mimetype": "text/x-python",
   "name": "python",
   "nbconvert_exporter": "python",
   "pygments_lexer": "ipython3",
   "version": "3.9.12"
  }
 },
 "nbformat": 4,
 "nbformat_minor": 5
}
